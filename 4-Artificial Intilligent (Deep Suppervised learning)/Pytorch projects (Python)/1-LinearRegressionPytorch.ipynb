{
  "nbformat": 4,
  "nbformat_minor": 0,
  "metadata": {
    "colab": {
      "name": "LinearRegressionPytorch.ipynb",
      "provenance": [],
      "collapsed_sections": []
    },
    "kernelspec": {
      "name": "python3",
      "display_name": "Python 3"
    },
    "language_info": {
      "name": "python"
    }
  },
  "cells": [
    {
      "cell_type": "code",
      "execution_count": 15,
      "metadata": {
        "id": "3oAC0cX8EOqx"
      },
      "outputs": [],
      "source": [
        "import torch\n",
        "import torch.nn as nn\n",
        "import matplotlib.pyplot as plt \n",
        "from sklearn import datasets             #datasets lib\n",
        "import numpy as np "
      ]
    },
    {
      "cell_type": "code",
      "source": [
        "#Data creation\n",
        "x_samples , y_samples = datasets.make_regression(n_samples=100 , n_features=1 , noise=20 , random_state=1)\n",
        "x = torch.from_numpy(x_samples.astype(np.float32))\n",
        "y = torch.from_numpy(y_samples.astype(np.float32))\n",
        "y = y.reshape(-1,1)  #or (y.shape,1)\n",
        "\n",
        "plt.scatter(x,y)\n",
        "plt.show()\n",
        "\n",
        "n_samples , n_features = x.shape"
      ],
      "metadata": {
        "colab": {
          "base_uri": "https://localhost:8080/",
          "height": 265
        },
        "id": "y9fiDUD7EhOM",
        "outputId": "a6d4b1e2-3988-49e6-a644-ff39370586d9"
      },
      "execution_count": 42,
      "outputs": [
        {
          "output_type": "display_data",
          "data": {
            "text/plain": [
              "<Figure size 432x288 with 1 Axes>"
            ],
            "image/png": "[encoded data removed]"
          },
          "metadata": {
            "needs_background": "light"
          }
        }
      ]
    },
    {
      "cell_type": "code",
      "source": [
        "#Model \n",
        "input_size = n_features\n",
        "output_size = n_features\n",
        "model = nn.Linear(input_size,output_size)"
      ],
      "metadata": {
        "id": "iZf4tAq6FE5W"
      },
      "execution_count": 43,
      "outputs": []
    },
    {
      "cell_type": "code",
      "source": [
        "#Training Config\n",
        "Loss = nn.MSELoss()\n",
        "Learning_rate = 0.001\n",
        "optimizer = torch.optim.SGD(model.parameters() , lr=Learning_rate)"
      ],
      "metadata": {
        "id": "SutykfxGHrkX"
      },
      "execution_count": 44,
      "outputs": []
    },
    {
      "cell_type": "code",
      "source": [
        "#Training \n",
        "epochs = 1000\n",
        "for epoch in range(epochs):\n",
        "  #forward :\n",
        "  y_hat = model(x)\n",
        "  loss = Loss(y,y_hat)\n",
        "  #backward :\n",
        "  loss.backward()\n",
        "  #update:\n",
        "  optimizer.step()\n",
        "  optimizer.zero_grad() "
      ],
      "metadata": {
        "id": "Q-g5GWLrH9OF"
      },
      "execution_count": 45,
      "outputs": []
    },
    {
      "cell_type": "code",
      "source": [
        "#plot th results\n",
        "y_predicted = model(x)\n",
        "y_predicted = y_predicted.detach().numpy()\n",
        "print(y_predicted.shape)\n",
        "print(y_samples.shape)\n",
        "\n",
        "plt.plot(x_samples , y_samples , 'ro')\n",
        "plt.plot(x_samples , y_predicted , 'b')"
      ],
      "metadata": {
        "colab": {
          "base_uri": "https://localhost:8080/",
          "height": 320
        },
        "id": "ZLGBOvZPJQCi",
        "outputId": "44cd7e32-e00e-4c7b-c593-d12edeec7538"
      },
      "execution_count": 55,
      "outputs": [
        {
          "output_type": "stream",
          "name": "stdout",
          "text": [
            "(100, 1)\n",
            "(100,)\n"
          ]
        },
        {
          "output_type": "execute_result",
          "data": {
            "text/plain": [
              "[<matplotlib.lines.Line2D at 0x7fdf9fe5b450>]"
            ]
          },
          "metadata": {},
          "execution_count": 55
        },
        {
          "output_type": "display_data",
          "data": {
            "text/plain": [
              "<Figure size 432x288 with 1 Axes>"
            ],
            "image/png": "[encoded data removed]"
          },
          "metadata": {
            "needs_background": "light"
          }
        }
      ]
    },
    {
      "cell_type": "code",
      "source": [
        ""
      ],
      "metadata": {
        "id": "Qps3BsMgKeIj"
      },
      "execution_count": null,
      "outputs": []
    }
  ]
}
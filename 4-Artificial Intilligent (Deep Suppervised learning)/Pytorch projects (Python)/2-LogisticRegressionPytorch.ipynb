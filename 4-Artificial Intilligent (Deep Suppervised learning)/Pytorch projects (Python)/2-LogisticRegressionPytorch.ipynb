{
  "nbformat": 4,
  "nbformat_minor": 0,
  "metadata": {
    "colab": {
      "name": "LogisticRegressionPytorch.ipynb",
      "provenance": [],
      "collapsed_sections": []
    },
    "kernelspec": {
      "name": "python3",
      "display_name": "Python 3"
    },
    "language_info": {
      "name": "python"
    }
  },
  "cells": [
    {
      "cell_type": "code",
      "execution_count": 191,
      "metadata": {
        "id": "hIp8NAxtN23i"
      },
      "outputs": [],
      "source": [
        "import torch\n",
        "import torch.nn as nn \n",
        "import numpy as np \n",
        "from sklearn import datasets\n",
        "from sklearn.preprocessing import StandardScaler\n",
        "from sklearn.model_selection import train_test_split"
      ]
    },
    {
      "cell_type": "code",
      "source": [
        "#Data Creation\n",
        "Data = datasets.load_breast_cancer()\n",
        "x , y = Data.data , Data.target\n",
        "n_samples , n_features = x.shape\n",
        "x_train , x_test , y_train  , y_test = train_test_split(x , y ,test_size = 0.2 , random_state = 1234)"
      ],
      "metadata": {
        "id": "bGig-MHSOLPS"
      },
      "execution_count": 192,
      "outputs": []
    },
    {
      "cell_type": "code",
      "source": [
        "sc = StandardScaler()\n",
        "x_train = sc.fit_transform(x_train)\n",
        "x_test = sc.transform(x_test)"
      ],
      "metadata": {
        "id": "7ee6S-veSgLS"
      },
      "execution_count": 193,
      "outputs": []
    },
    {
      "cell_type": "code",
      "source": [
        "x_train = torch.from_numpy(x_train.astype(np.float32))\n",
        "x_test = torch.from_numpy(x_test.astype(np.float32))\n",
        "y_train = torch.from_numpy(y_train.astype(np.float32))\n",
        "y_test = torch.from_numpy(y_test.astype(np.float32))"
      ],
      "metadata": {
        "id": "MFK4xCLuSmL8"
      },
      "execution_count": 194,
      "outputs": []
    },
    {
      "cell_type": "code",
      "source": [
        "y_train = y_train.view(y_train.shape[0], 1)\n",
        "y_test = y_test.view(y_test.shape[0], 1)   #reshaping"
      ],
      "metadata": {
        "id": "G4e95N1vUdrh"
      },
      "execution_count": 195,
      "outputs": []
    },
    {
      "cell_type": "code",
      "source": [
        "#Model creation \n",
        "class LogisitcRegression(nn.Module):\n",
        "  def __init__(self,n_input_size):\n",
        "    super(LogisitcRegression, self).__init__()\n",
        "    self.linear = nn.Linear(n_input_size,1)\n",
        "    \n",
        "  def forward(self,x):\n",
        "    y_pred = torch.sigmoid(self.linear(x))\n",
        "    return y_pred"
      ],
      "metadata": {
        "id": "VUMu5orKWTnK"
      },
      "execution_count": 196,
      "outputs": []
    },
    {
      "cell_type": "code",
      "source": [
        "input_size = n_features \n",
        "output_size =1 \n",
        "model = LogisitcRegression(input_size)"
      ],
      "metadata": {
        "id": "-w4llfVqXXLC"
      },
      "execution_count": 197,
      "outputs": []
    },
    {
      "cell_type": "code",
      "source": [
        "#Training Config \n",
        "Learning_rate = 0.01\n",
        "Loss = nn.BCELoss()   #Binnary Cross Entropy\n",
        "optimizer = torch.optim.SGD(model.parameters(),lr=Learning_rate)    #Stochastique Gradient Descent"
      ],
      "metadata": {
        "id": "2VZheF4HYTTI"
      },
      "execution_count": 198,
      "outputs": []
    },
    {
      "cell_type": "code",
      "source": [
        "#Training \n",
        "epochs = 1000\n",
        "for epoch in range(epochs): \n",
        "  #forward\n",
        "  y_hat = model(x_train)\n",
        "  loss = Loss(y_hat,y_train)\n",
        "  #backward\n",
        "  loss.backward()\n",
        "  #updating\n",
        "  optimizer.step()\n",
        "  optimizer.zero_grad()"
      ],
      "metadata": {
        "id": "ekGtRJXcYlSx"
      },
      "execution_count": 199,
      "outputs": []
    },
    {
      "cell_type": "code",
      "source": [
        "#Calculate the accuracy of the prediction fot test data \n",
        "y_predicted = model(x_test)\n",
        "y_predicted = y_predicted.detach().numpy()\n",
        "accuracy = ((abs(y_test-y_predicted)).sum())/len(y_test)\n",
        "print(accuracy)"
      ],
      "metadata": {
        "colab": {
          "base_uri": "https://localhost:8080/"
        },
        "id": "GY_SiRFBcFsu",
        "outputId": "cefa69fe-911a-4f9d-9fc2-7c4072205981"
      },
      "execution_count": 200,
      "outputs": [
        {
          "output_type": "stream",
          "name": "stdout",
          "text": [
            "tensor(0.1029)\n"
          ]
        }
      ]
    }
  ]
}
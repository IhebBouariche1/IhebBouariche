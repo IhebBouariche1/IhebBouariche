{
  "nbformat": 4,
  "nbformat_minor": 0,
  "metadata": {
    "colab": {
      "name": "PytorchMnistFeedforwardNeuralNetwork.ipynb",
      "provenance": [],
      "collapsed_sections": []
    },
    "kernelspec": {
      "name": "python3",
      "display_name": "Python 3"
    },
    "language_info": {
      "name": "python"
    },
    "accelerator": "TPU",
    "gpuClass": "standard"
  },
  "cells": [
    {
      "cell_type": "code",
      "source": [
        "import torch \n",
        "import torch.nn as nn \n",
        "import torchvision\n",
        "import torchvision.transforms as transforms\n",
        "import matplotlib.pyplot as plt"
      ],
      "metadata": {
        "id": "MHP2YjeWrOvd"
      },
      "execution_count": null,
      "outputs": []
    },
    {
      "cell_type": "code",
      "source": [
        "device = torch.device('cuda' if torch.cuda.is_available() else 'cpu')"
      ],
      "metadata": {
        "id": "ztQrHpIzrrxa"
      },
      "execution_count": null,
      "outputs": []
    },
    {
      "cell_type": "code",
      "source": [
        "input_size = 784 #28x28\n",
        "hidden_size = 500\n",
        "num_classes = 10\n",
        "num_epochs = 2 \n",
        "batch_size = 100\n",
        "Learning_rate = 0.001"
      ],
      "metadata": {
        "id": "iWovAWE1r9KS"
      },
      "execution_count": null,
      "outputs": []
    },
    {
      "cell_type": "code",
      "source": [
        "#MNIST dataset \n",
        "train_dataset = torchvision.datasets.MNIST(root='./data',train=True,transform = transforms.ToTensor(),download= True)\n",
        "test_dataset = torchvision.datasets.MNIST(root='./data',train=False,transform = transforms.ToTensor(),download= False)"
      ],
      "metadata": {
        "id": "u_P43MpWsgeh"
      },
      "execution_count": null,
      "outputs": []
    },
    {
      "cell_type": "code",
      "source": [
        "#Data loader \n",
        "train_loader = torch.utils.data.DataLoader(dataset=train_dataset,batch_size = batch_size , shuffle = True)\n",
        "test_loader = torch.utils.data.DataLoader(dataset = test_dataset)"
      ],
      "metadata": {
        "id": "BFo3ID6yuBcq"
      },
      "execution_count": null,
      "outputs": []
    },
    {
      "cell_type": "code",
      "source": [
        "#take an example \n",
        "example= iter(train_loader)   #object\n",
        "example_x , example_y = example.next()   #data __item__ of the object   \n",
        "plt.imshow(example_x[0][0],cmap='gray')"
      ],
      "metadata": {
        "colab": {
          "base_uri": "https://localhost:8080/",
          "height": 283
        },
        "id": "TldNJFV4u7oT",
        "outputId": "ca704c75-5811-4953-f0d4-6c94b19fd6b7"
      },
      "execution_count": null,
      "outputs": [
        {
          "output_type": "execute_result",
          "data": {
            "text/plain": [
              "<matplotlib.image.AxesImage at 0x7fa16fbeca50>"
            ]
          },
          "metadata": {},
          "execution_count": 38
        },
        {
          "output_type": "display_data",
          "data": {
            "text/plain": [
              "<Figure size 432x288 with 1 Axes>"
            ],
            "image/png": "[encoded data removed]"
          },
          "metadata": {
            "needs_background": "light"
          }
        }
      ]
    },
    {
      "cell_type": "code",
      "source": [
        "#Neural Network Model\n",
        "class NeuralNetwork(nn.Module):\n",
        "  def __init__(self, input_size , hidden_size , num_classes):\n",
        "    super().__init__()\n",
        "    self.linear1 = nn.Linear(input_size , hidden_size)\n",
        "    self.relu = nn.ReLU()\n",
        "    self.linear2 = nn.Linear(hidden_size , num_classes)\n",
        "  def forward(self, x):\n",
        "    out = self.linear1(x)\n",
        "    out = self.relu(out)\n",
        "    out = self.linear2(out)\n",
        "    return out"
      ],
      "metadata": {
        "id": "gw6HWyj6vCmP"
      },
      "execution_count": null,
      "outputs": []
    },
    {
      "cell_type": "code",
      "source": [
        "model = NeuralNetwork(input_size , hidden_size , num_classes)"
      ],
      "metadata": {
        "id": "51v8OU9RyrYd"
      },
      "execution_count": null,
      "outputs": []
    },
    {
      "cell_type": "code",
      "source": [
        "#Loss and Optimizer config\n",
        "Loss = nn.CrossEntropyLoss()\n",
        "optimizer = torch.optim.Adam(model.parameters() , lr = Learning_rate)"
      ],
      "metadata": {
        "id": "9mthfDRYy0rO"
      },
      "execution_count": null,
      "outputs": []
    },
    {
      "cell_type": "code",
      "source": [
        "#Training Loop\n",
        "for epoch in range(num_epochs):\n",
        "   for i , (images,labels) in enumerate(train_loader):\n",
        "      images = images.view(-1,28*28) # origin shape: [100, 1, 28, 28]   # resized: [100, 784]    NN will be feeded raw by raw   \n",
        "      #forward\n",
        "      output = model(images)\n",
        "      loss = Loss(output,labels)\n",
        "      #backward \n",
        "      optimizer.zero_grad() #initialise the dw on zero every step\n",
        "      loss.backward()      #calculate the gradient of the loss \n",
        "      optimizer.step()     #update weight\n",
        "      if (i+1)%100 ==0:\n",
        "        print(f'epoch {epoch+1} / {num_epochs}  ,   step {i+1}/{len(train_loader)}     ,    loss {loss.item():.4f}')"
      ],
      "metadata": {
        "colab": {
          "base_uri": "https://localhost:8080/"
        },
        "id": "7rFucQdszIV4",
        "outputId": "df25aa46-7a86-4204-c761-bb1325ea18cf"
      },
      "execution_count": null,
      "outputs": [
        {
          "output_type": "stream",
          "name": "stdout",
          "text": [
            "epoch 1 / 2  ,   step 100/600     ,    loss 0.2936\n",
            "epoch 1 / 2  ,   step 200/600     ,    loss 0.1955\n",
            "epoch 1 / 2  ,   step 300/600     ,    loss 0.2903\n",
            "epoch 1 / 2  ,   step 400/600     ,    loss 0.1395\n",
            "epoch 1 / 2  ,   step 500/600     ,    loss 0.1294\n",
            "epoch 1 / 2  ,   step 600/600     ,    loss 0.2020\n",
            "epoch 2 / 2  ,   step 100/600     ,    loss 0.0654\n",
            "epoch 2 / 2  ,   step 200/600     ,    loss 0.0755\n",
            "epoch 2 / 2  ,   step 300/600     ,    loss 0.0900\n",
            "epoch 2 / 2  ,   step 400/600     ,    loss 0.0518\n",
            "epoch 2 / 2  ,   step 500/600     ,    loss 0.1381\n",
            "epoch 2 / 2  ,   step 600/600     ,    loss 0.0933\n"
          ]
        }
      ]
    },
    {
      "cell_type": "code",
      "source": [
        "y_hat=[]\n",
        "y_true=[]\n",
        "y_predicted=[]\n",
        "j=0\n",
        "with torch.no_grad():\n",
        "  for i,(images,y) in enumerate(test_loader):\n",
        "    y_hat.append(torch.max(model(images.view(-1,28*28)),1))\n",
        "    y_true.append(y.numpy())\n",
        "    y_predicted.append((y_hat[i][1]).numpy())\n",
        "  for i in range(len(y_true)):\n",
        "    if y_predicted[i]-y_true[i] != 0: \n",
        "      j+=1"
      ],
      "metadata": {
        "id": "Nv9ofFyj1vDM"
      },
      "execution_count": null,
      "outputs": []
    },
    {
      "cell_type": "code",
      "source": [
        "print(f'number of wrong predictions is: {j}')\n",
        "print(f'accuracy = {311/len(y_true)}')"
      ],
      "metadata": {
        "colab": {
          "base_uri": "https://localhost:8080/"
        },
        "id": "Wd60qtKOMbKj",
        "outputId": "c2e21226-53c0-42dc-b4cd-93ff80c6f340"
      },
      "execution_count": null,
      "outputs": [
        {
          "output_type": "stream",
          "name": "stdout",
          "text": [
            "number of wrong predictions is: 311\n",
            "accuracy = 0.0311\n"
          ]
        }
      ]
    }
  ]
}
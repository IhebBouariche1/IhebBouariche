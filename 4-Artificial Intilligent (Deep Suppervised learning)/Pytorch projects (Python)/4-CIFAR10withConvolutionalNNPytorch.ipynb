{
  "nbformat": 4,
  "nbformat_minor": 0,
  "metadata": {
    "colab": {
      "name": "4_CIFAR10withConvolutionalNNPytorch.ipynb",
      "provenance": [],
      "collapsed_sections": []
    },
    "kernelspec": {
      "name": "python3",
      "display_name": "Python 3"
    },
    "language_info": {
      "name": "python"
    },
    "gpuClass": "standard",
    "accelerator": "GPU"
  },
  "cells": [
    {
      "cell_type": "code",
      "source": [
        "import torch\n",
        "import torch.nn as nn \n",
        "import torch.nn.functional as F \n",
        "import torchvision\n",
        "import torchvision.transforms as transforms\n",
        "import numpy as np \n",
        "import matplotlib.pyplot as plt"
      ],
      "metadata": {
        "id": "kYxlj1hWNt7T"
      },
      "execution_count": 1,
      "outputs": []
    },
    {
      "cell_type": "code",
      "source": [
        "device = torch.device('cuda' if torch.cuda.is_available else 'cpu')"
      ],
      "metadata": {
        "id": "aygRevN2STYU"
      },
      "execution_count": 2,
      "outputs": []
    },
    {
      "cell_type": "code",
      "source": [
        "transform = transforms.Compose([transforms.ToTensor(),transforms.Normalize((0.5,0.5,0.5),(0.5,0.5,0.5))])"
      ],
      "metadata": {
        "id": "Gc-DACvdS5N1"
      },
      "execution_count": 3,
      "outputs": []
    },
    {
      "cell_type": "code",
      "source": [
        "train_data = torchvision.datasets.CIFAR10(root='./data',train = True , transform=transform , download=True)\n",
        "test_data = torchvision.datasets.CIFAR10(root='./data' , train=True , transform = transform, download=True)\n",
        "\n",
        "Train_loader = torch.utils.data.DataLoader(dataset=train_data , shuffle = True , batch_size = 10)\n",
        "Test_loader = torch.utils.data.DataLoader(dataset=test_data , batch_size = 10)"
      ],
      "metadata": {
        "colab": {
          "base_uri": "https://localhost:8080/"
        },
        "id": "qIibih0DTgnR",
        "outputId": "3630eb82-cecc-46ba-8c10-4e2ec967f2ba"
      },
      "execution_count": 13,
      "outputs": [
        {
          "output_type": "stream",
          "name": "stdout",
          "text": [
            "Files already downloaded and verified\n",
            "Files already downloaded and verified\n"
          ]
        }
      ]
    },
    {
      "cell_type": "code",
      "source": [
        "classes = ('plane', 'car', 'bird', 'cat',\n",
        "           'deer', 'dog', 'frog', 'horse', 'ship', 'truck')"
      ],
      "metadata": {
        "id": "s0j__cPQWpTN"
      },
      "execution_count": 5,
      "outputs": []
    },
    {
      "cell_type": "code",
      "source": [
        "#example \n",
        "example = iter(Train_loader)\n",
        "image,label = example.next() \n",
        "plt.imshow(image[0][0])   #normalized images\n",
        "print(classes[label[0]])"
      ],
      "metadata": {
        "colab": {
          "base_uri": "https://localhost:8080/",
          "height": 283
        },
        "id": "VRZyRtXtUQ6g",
        "outputId": "82c01cda-744e-4603-c045-450747b43632"
      },
      "execution_count": 6,
      "outputs": [
        {
          "output_type": "stream",
          "name": "stdout",
          "text": [
            "bird\n"
          ]
        },
        {
          "output_type": "display_data",
          "data": {
            "text/plain": [
              "<Figure size 432x288 with 1 Axes>"
            ],
            "image/png": "[encoded data removed]"
          },
          "metadata": {
            "needs_background": "light"
          }
        }
      ]
    },
    {
      "cell_type": "code",
      "source": [
        "class ConvNet(nn.Module):\n",
        "  def __init__(self):\n",
        "    super(ConvNet, self).__init__()\n",
        "    self.conv1 = nn.Conv2d(3,32,3)    #input_channels , output_channels , kernel_size(filter_size) , padding = 0 and stride = 1 as default   (30,30,32)\n",
        "    self.Pool1 = nn.MaxPool2d(2,2)\n",
        "    self.conv2 = nn.Conv2d(32,64,3)  #output_chanels , outputs_channels2                 \n",
        "    self.linear1 = nn.Linear(64*13*13,64)    #64 neurons and flatten              \n",
        "    self.linear2 = nn.Linear(64,32)\n",
        "    self.linear3 = nn.Linear(32,10)\n",
        "  \n",
        "  def forward(self,x):\n",
        "    out = self.conv1(x)          \n",
        "    out = F.relu(out) \n",
        "    out = self.Pool1(out)\n",
        "    out = self.conv2(out)\n",
        "    out = F.relu(out) \n",
        "    out = out.view(10,64*13*13)  #Flatten\n",
        "    out = self.linear1(out)\n",
        "    out = F.relu(out)\n",
        "    out = self.linear2(out)\n",
        "    out = F.relu(out)\n",
        "    out = self.linear3(out)  \n",
        "    return out"
      ],
      "metadata": {
        "id": "BgRpMKphVmiw"
      },
      "execution_count": 7,
      "outputs": []
    },
    {
      "cell_type": "code",
      "source": [
        "model = ConvNet().to(device)"
      ],
      "metadata": {
        "id": "wopZs6azfjXH"
      },
      "execution_count": 8,
      "outputs": []
    },
    {
      "cell_type": "code",
      "source": [
        "#model config\n",
        "Learning_rate = 0.001\n",
        "Loss = nn.CrossEntropyLoss()\n",
        "optimizer = torch.optim.Adam(model.parameters(),lr=Learning_rate)"
      ],
      "metadata": {
        "id": "bMVDGoHUhqc3"
      },
      "execution_count": 9,
      "outputs": []
    },
    {
      "cell_type": "code",
      "source": [
        "#Training\n",
        "epochs = 5\n",
        "for epoch in range(epochs) : \n",
        "  for i, (image , labels) in enumerate(Train_loader):\n",
        "    image =image.to(device)\n",
        "    labels =labels.to(device)\n",
        "    #forward \n",
        "    output = model(image)\n",
        "    loss = Loss(output, labels)\n",
        "    #backward\n",
        "    optimizer.zero_grad()\n",
        "    loss.backward()\n",
        "    optimizer.step()\n",
        "    if (i+1) % 2000 == 0:\n",
        "      print(f'epoch{epoch}/{epochs}      step : {i+1}/{len(Train_loader)}         loss: {loss.item():.4f}')\n"
      ],
      "metadata": {
        "colab": {
          "base_uri": "https://localhost:8080/"
        },
        "id": "dGSkmNCOiNQT",
        "outputId": "f4c51e55-2f8e-4986-c640-787640f6688f"
      },
      "execution_count": 10,
      "outputs": [
        {
          "output_type": "stream",
          "name": "stdout",
          "text": [
            "epoch0/5      step : 2000/5000         loss: 1.1849\n",
            "epoch0/5      step : 4000/5000         loss: 1.6130\n",
            "epoch1/5      step : 2000/5000         loss: 0.7818\n",
            "epoch1/5      step : 4000/5000         loss: 1.5834\n",
            "epoch2/5      step : 2000/5000         loss: 1.3228\n",
            "epoch2/5      step : 4000/5000         loss: 0.5385\n",
            "epoch3/5      step : 2000/5000         loss: 0.5934\n",
            "epoch3/5      step : 4000/5000         loss: 0.5324\n",
            "epoch4/5      step : 2000/5000         loss: 0.2766\n",
            "epoch4/5      step : 4000/5000         loss: 1.1584\n"
          ]
        }
      ]
    },
    {
      "cell_type": "code",
      "source": [
        "#evaluation\n",
        "with torch.no_grad():\n",
        "    n_correct = 0\n",
        "    n_samples = 0\n",
        "    n_class_correct = [0 for i in range(10)]\n",
        "    n_class_samples = [0 for i in range(10)]\n",
        "    for images, labels in Test_loader:\n",
        "        images = images.to(device)\n",
        "        labels = labels.to(device)\n",
        "        outputs = model(images)\n",
        "        # max returns (value ,index)\n",
        "        _, predicted = torch.max(outputs, 1)\n",
        "        n_samples += labels.size(0)\n",
        "        n_correct += (predicted == labels).sum().item()\n",
        "        \n",
        "        for i in range(4):\n",
        "            label = labels[i]\n",
        "            pred = predicted[i]\n",
        "            if (label == pred):\n",
        "                n_class_correct[label] += 1\n",
        "            n_class_samples[label] += 1\n",
        "\n",
        "    acc = 100.0 * n_correct / n_samples\n",
        "    print(f'Accuracy of the network: {acc} %')\n",
        "\n",
        "    for i in range(10):\n",
        "        acc = 100.0 * n_class_correct[i] / n_class_samples[i]\n",
        "        print(f'Accuracy of {classes[i]}: {acc} %')\n"
      ],
      "metadata": {
        "colab": {
          "base_uri": "https://localhost:8080/"
        },
        "id": "kUmIgcclWFZQ",
        "outputId": "a4d56a7a-f42a-421f-d0b0-b05ff1caffc3"
      },
      "execution_count": 14,
      "outputs": [
        {
          "output_type": "stream",
          "name": "stdout",
          "text": [
            "Accuracy of the network: 83.444 %\n",
            "Accuracy of plane: 76.96151924037981 %\n",
            "Accuracy of car: 92.6040061633282 %\n",
            "Accuracy of bird: 63.18383440118285 %\n",
            "Accuracy of cat: 66.94499017681729 %\n",
            "Accuracy of deer: 83.38353413654619 %\n",
            "Accuracy of dog: 83.27661643169665 %\n",
            "Accuracy of frog: 89.02681231380338 %\n",
            "Accuracy of horse: 89.35950413223141 %\n",
            "Accuracy of ship: 95.97382989431304 %\n",
            "Accuracy of truck: 92.8535732133933 %\n"
          ]
        }
      ]
    },
    {
      "cell_type": "code",
      "source": [
        "#evaluation\n",
        "j=0\n",
        "l=0\n",
        "i=0\n",
        "with torch.no_grad():\n",
        "    n_correct = 0\n",
        "    n_samples = 0\n",
        "    n_class_correct = [0 for i in range(10)]\n",
        "    n_class_samples = [0 for i in range(10)]\n",
        "    for images, labels in Test_loader:\n",
        "        images = images.to(device)\n",
        "        labels = labels.to(device)\n",
        "        outputs = model(images)\n",
        "        _, predicted = torch.max(outputs, 1)\n",
        "        n_samples += labels.size(0)\n",
        "        for i in range(10) : \n",
        "           if predicted[i] != labels[i] : \n",
        "              l+=1\n",
        "          \n",
        "    \n",
        "\n",
        "print(f' number of wrong predictions: {l}        accuracy: {l/n_samples}')"
      ],
      "metadata": {
        "colab": {
          "base_uri": "https://localhost:8080/"
        },
        "id": "XW2gydP0qGta",
        "outputId": "3a712d4e-fcca-4683-df92-225728850f57"
      },
      "execution_count": 38,
      "outputs": [
        {
          "output_type": "stream",
          "name": "stdout",
          "text": [
            " number of wrong predictions: 8278        accuracy: 0.16556\n"
          ]
        }
      ]
    }
  ]
}
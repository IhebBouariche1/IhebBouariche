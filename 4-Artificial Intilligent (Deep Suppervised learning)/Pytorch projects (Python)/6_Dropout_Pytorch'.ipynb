{
  "nbformat": 4,
  "nbformat_minor": 0,
  "metadata": {
    "colab": {
      "name": "6-Dropout_Pytorch'.ipynb",
      "provenance": [],
      "collapsed_sections": []
    },
    "kernelspec": {
      "name": "python3",
      "display_name": "Python 3"
    },
    "language_info": {
      "name": "python"
    },
    "gpuClass": "standard",
    "accelerator": "GPU",
    "widgets": {
      "application/vnd.jupyter.widget-state+json": {
        "589d7d72fd344b9c84d91a51df98292b": {
          "model_module": "@jupyter-widgets/controls",
          "model_name": "HBoxModel",
          "model_module_version": "2.0.0",
          "state": {
            "_dom_classes": [],
            "_model_module": "@jupyter-widgets/controls",
            "_model_module_version": "2.0.0",
            "_model_name": "HBoxModel",
            "_view_count": null,
            "_view_module": "@jupyter-widgets/controls",
            "_view_module_version": "2.0.0",
            "_view_name": "HBoxView",
            "box_style": "",
            "children": [
              "IPY_MODEL_cd238083a9c54ee5ba0c36704c3ede87",
              "IPY_MODEL_61542f9d74a04102b383b27adc2faeb5",
              "IPY_MODEL_c0a31c3f8e5f46f59c7bac88e5d525fc"
            ],
            "layout": "IPY_MODEL_a0d3ef2f4e1749f5b9e161a43946cef2",
            "tabbable": null,
            "tooltip": null
          }
        },
        "cd238083a9c54ee5ba0c36704c3ede87": {
          "model_module": "@jupyter-widgets/controls",
          "model_name": "HTMLModel",
          "model_module_version": "2.0.0",
          "state": {
            "_dom_classes": [],
            "_model_module": "@jupyter-widgets/controls",
            "_model_module_version": "2.0.0",
            "_model_name": "HTMLModel",
            "_view_count": null,
            "_view_module": "@jupyter-widgets/controls",
            "_view_module_version": "2.0.0",
            "_view_name": "HTMLView",
            "description": "",
            "description_allow_html": false,
            "layout": "IPY_MODEL_2308a82511174957aa01f096675f9355",
            "placeholder": "​",
            "style": "IPY_MODEL_24eaec0e72e74f109a0b5385fd8685ee",
            "tabbable": null,
            "tooltip": null,
            "value": "100%"
          }
        },
        "61542f9d74a04102b383b27adc2faeb5": {
          "model_module": "@jupyter-widgets/controls",
          "model_name": "FloatProgressModel",
          "model_module_version": "2.0.0",
          "state": {
            "_dom_classes": [],
            "_model_module": "@jupyter-widgets/controls",
            "_model_module_version": "2.0.0",
            "_model_name": "FloatProgressModel",
            "_view_count": null,
            "_view_module": "@jupyter-widgets/controls",
            "_view_module_version": "2.0.0",
            "_view_name": "ProgressView",
            "bar_style": "success",
            "description": "",
            "description_allow_html": false,
            "layout": "IPY_MODEL_d2da288ffb454e66ac3291e3cfb562c9",
            "max": 170498071,
            "min": 0,
            "orientation": "horizontal",
            "style": "IPY_MODEL_27e329ebf5fc4a4c879b3e1ef6e22819",
            "tabbable": null,
            "tooltip": null,
            "value": 170498071
          }
        },
        "c0a31c3f8e5f46f59c7bac88e5d525fc": {
          "model_module": "@jupyter-widgets/controls",
          "model_name": "HTMLModel",
          "model_module_version": "2.0.0",
          "state": {
            "_dom_classes": [],
            "_model_module": "@jupyter-widgets/controls",
            "_model_module_version": "2.0.0",
            "_model_name": "HTMLModel",
            "_view_count": null,
            "_view_module": "@jupyter-widgets/controls",
            "_view_module_version": "2.0.0",
            "_view_name": "HTMLView",
            "description": "",
            "description_allow_html": false,
            "layout": "IPY_MODEL_1cf33e5de601490e94b4f6d050d87eda",
            "placeholder": "​",
            "style": "IPY_MODEL_34071fc7fa8548e28c7e6527facc6462",
            "tabbable": null,
            "tooltip": null,
            "value": " 170498071/170498071 [00:02&lt;00:00, 88687456.54it/s]"
          }
        },
        "a0d3ef2f4e1749f5b9e161a43946cef2": {
          "model_module": "@jupyter-widgets/base",
          "model_name": "LayoutModel",
          "model_module_version": "2.0.0",
          "state": {
            "_model_module": "@jupyter-widgets/base",
            "_model_module_version": "2.0.0",
            "_model_name": "LayoutModel",
            "_view_count": null,
            "_view_module": "@jupyter-widgets/base",
            "_view_module_version": "2.0.0",
            "_view_name": "LayoutView",
            "align_content": null,
            "align_items": null,
            "align_self": null,
            "border_bottom": null,
            "border_left": null,
            "border_right": null,
            "border_top": null,
            "bottom": null,
            "display": null,
            "flex": null,
            "flex_flow": null,
            "grid_area": null,
            "grid_auto_columns": null,
            "grid_auto_flow": null,
            "grid_auto_rows": null,
            "grid_column": null,
            "grid_gap": null,
            "grid_row": null,
            "grid_template_areas": null,
            "grid_template_columns": null,
            "grid_template_rows": null,
            "height": null,
            "justify_content": null,
            "justify_items": null,
            "left": null,
            "margin": null,
            "max_height": null,
            "max_width": null,
            "min_height": null,
            "min_width": null,
            "object_fit": null,
            "object_position": null,
            "order": null,
            "overflow": null,
            "padding": null,
            "right": null,
            "top": null,
            "visibility": null,
            "width": null
          }
        },
        "2308a82511174957aa01f096675f9355": {
          "model_module": "@jupyter-widgets/base",
          "model_name": "LayoutModel",
          "model_module_version": "2.0.0",
          "state": {
            "_model_module": "@jupyter-widgets/base",
            "_model_module_version": "2.0.0",
            "_model_name": "LayoutModel",
            "_view_count": null,
            "_view_module": "@jupyter-widgets/base",
            "_view_module_version": "2.0.0",
            "_view_name": "LayoutView",
            "align_content": null,
            "align_items": null,
            "align_self": null,
            "border_bottom": null,
            "border_left": null,
            "border_right": null,
            "border_top": null,
            "bottom": null,
            "display": null,
            "flex": null,
            "flex_flow": null,
            "grid_area": null,
            "grid_auto_columns": null,
            "grid_auto_flow": null,
            "grid_auto_rows": null,
            "grid_column": null,
            "grid_gap": null,
            "grid_row": null,
            "grid_template_areas": null,
            "grid_template_columns": null,
            "grid_template_rows": null,
            "height": null,
            "justify_content": null,
            "justify_items": null,
            "left": null,
            "margin": null,
            "max_height": null,
            "max_width": null,
            "min_height": null,
            "min_width": null,
            "object_fit": null,
            "object_position": null,
            "order": null,
            "overflow": null,
            "padding": null,
            "right": null,
            "top": null,
            "visibility": null,
            "width": null
          }
        },
        "24eaec0e72e74f109a0b5385fd8685ee": {
          "model_module": "@jupyter-widgets/controls",
          "model_name": "HTMLStyleModel",
          "model_module_version": "2.0.0",
          "state": {
            "_model_module": "@jupyter-widgets/controls",
            "_model_module_version": "2.0.0",
            "_model_name": "HTMLStyleModel",
            "_view_count": null,
            "_view_module": "@jupyter-widgets/base",
            "_view_module_version": "2.0.0",
            "_view_name": "StyleView",
            "background": null,
            "description_width": "",
            "font_size": null,
            "text_color": null
          }
        },
        "d2da288ffb454e66ac3291e3cfb562c9": {
          "model_module": "@jupyter-widgets/base",
          "model_name": "LayoutModel",
          "model_module_version": "2.0.0",
          "state": {
            "_model_module": "@jupyter-widgets/base",
            "_model_module_version": "2.0.0",
            "_model_name": "LayoutModel",
            "_view_count": null,
            "_view_module": "@jupyter-widgets/base",
            "_view_module_version": "2.0.0",
            "_view_name": "LayoutView",
            "align_content": null,
            "align_items": null,
            "align_self": null,
            "border_bottom": null,
            "border_left": null,
            "border_right": null,
            "border_top": null,
            "bottom": null,
            "display": null,
            "flex": null,
            "flex_flow": null,
            "grid_area": null,
            "grid_auto_columns": null,
            "grid_auto_flow": null,
            "grid_auto_rows": null,
            "grid_column": null,
            "grid_gap": null,
            "grid_row": null,
            "grid_template_areas": null,
            "grid_template_columns": null,
            "grid_template_rows": null,
            "height": null,
            "justify_content": null,
            "justify_items": null,
            "left": null,
            "margin": null,
            "max_height": null,
            "max_width": null,
            "min_height": null,
            "min_width": null,
            "object_fit": null,
            "object_position": null,
            "order": null,
            "overflow": null,
            "padding": null,
            "right": null,
            "top": null,
            "visibility": null,
            "width": null
          }
        },
        "27e329ebf5fc4a4c879b3e1ef6e22819": {
          "model_module": "@jupyter-widgets/controls",
          "model_name": "ProgressStyleModel",
          "model_module_version": "2.0.0",
          "state": {
            "_model_module": "@jupyter-widgets/controls",
            "_model_module_version": "2.0.0",
            "_model_name": "ProgressStyleModel",
            "_view_count": null,
            "_view_module": "@jupyter-widgets/base",
            "_view_module_version": "2.0.0",
            "_view_name": "StyleView",
            "bar_color": null,
            "description_width": ""
          }
        },
        "1cf33e5de601490e94b4f6d050d87eda": {
          "model_module": "@jupyter-widgets/base",
          "model_name": "LayoutModel",
          "model_module_version": "2.0.0",
          "state": {
            "_model_module": "@jupyter-widgets/base",
            "_model_module_version": "2.0.0",
            "_model_name": "LayoutModel",
            "_view_count": null,
            "_view_module": "@jupyter-widgets/base",
            "_view_module_version": "2.0.0",
            "_view_name": "LayoutView",
            "align_content": null,
            "align_items": null,
            "align_self": null,
            "border_bottom": null,
            "border_left": null,
            "border_right": null,
            "border_top": null,
            "bottom": null,
            "display": null,
            "flex": null,
            "flex_flow": null,
            "grid_area": null,
            "grid_auto_columns": null,
            "grid_auto_flow": null,
            "grid_auto_rows": null,
            "grid_column": null,
            "grid_gap": null,
            "grid_row": null,
            "grid_template_areas": null,
            "grid_template_columns": null,
            "grid_template_rows": null,
            "height": null,
            "justify_content": null,
            "justify_items": null,
            "left": null,
            "margin": null,
            "max_height": null,
            "max_width": null,
            "min_height": null,
            "min_width": null,
            "object_fit": null,
            "object_position": null,
            "order": null,
            "overflow": null,
            "padding": null,
            "right": null,
            "top": null,
            "visibility": null,
            "width": null
          }
        },
        "34071fc7fa8548e28c7e6527facc6462": {
          "model_module": "@jupyter-widgets/controls",
          "model_name": "HTMLStyleModel",
          "model_module_version": "2.0.0",
          "state": {
            "_model_module": "@jupyter-widgets/controls",
            "_model_module_version": "2.0.0",
            "_model_name": "HTMLStyleModel",
            "_view_count": null,
            "_view_module": "@jupyter-widgets/base",
            "_view_module_version": "2.0.0",
            "_view_name": "StyleView",
            "background": null,
            "description_width": "",
            "font_size": null,
            "text_color": null
          }
        }
      }
    }
  },
  "cells": [
    {
      "cell_type": "code",
      "source": [
        "import torch\n",
        "import torch.nn as nn \n",
        "import torch.nn.functional as F \n",
        "import torchvision\n",
        "import torchvision.transforms as transforms\n",
        "import numpy as np \n",
        "import matplotlib.pyplot as plt"
      ],
      "metadata": {
        "id": "kYxlj1hWNt7T"
      },
      "execution_count": 1,
      "outputs": []
    },
    {
      "cell_type": "code",
      "source": [
        "device = torch.device('cuda' if torch.cuda.is_available else 'cpu')"
      ],
      "metadata": {
        "id": "aygRevN2STYU"
      },
      "execution_count": 2,
      "outputs": []
    },
    {
      "cell_type": "code",
      "source": [
        "transform = transforms.Compose([transforms.ToTensor(),transforms.Normalize((0.5,0.5,0.5),(0.5,0.5,0.5))])"
      ],
      "metadata": {
        "id": "Gc-DACvdS5N1"
      },
      "execution_count": 3,
      "outputs": []
    },
    {
      "cell_type": "code",
      "source": [
        "train_data = torchvision.datasets.CIFAR10(root='./data',train = True , transform=transform , download=True)\n",
        "test_data = torchvision.datasets.CIFAR10(root='./data' , train=True , transform = transform, download=True)\n",
        "\n",
        "Train_loader = torch.utils.data.DataLoader(dataset=train_data , shuffle = True , batch_size = 10)\n",
        "Test_loader = torch.utils.data.DataLoader(dataset=test_data , batch_size = 10)"
      ],
      "metadata": {
        "colab": {
          "base_uri": "https://localhost:8080/",
          "height": 72,
          "referenced_widgets": [
            "589d7d72fd344b9c84d91a51df98292b",
            "cd238083a9c54ee5ba0c36704c3ede87",
            "61542f9d74a04102b383b27adc2faeb5",
            "c0a31c3f8e5f46f59c7bac88e5d525fc",
            "a0d3ef2f4e1749f5b9e161a43946cef2",
            "2308a82511174957aa01f096675f9355",
            "24eaec0e72e74f109a0b5385fd8685ee",
            "d2da288ffb454e66ac3291e3cfb562c9",
            "27e329ebf5fc4a4c879b3e1ef6e22819",
            "1cf33e5de601490e94b4f6d050d87eda",
            "34071fc7fa8548e28c7e6527facc6462"
          ]
        },
        "id": "qIibih0DTgnR",
        "outputId": "e91ec27d-884d-4749-d712-19b0883e7b45"
      },
      "execution_count": 4,
      "outputs": [
        {
          "output_type": "stream",
          "name": "stdout",
          "text": [
            "Downloading https://www.cs.toronto.edu/~kriz/cifar-10-python.tar.gz to ./data/cifar-10-python.tar.gz\n"
          ]
        },
        {
          "output_type": "display_data",
          "data": {
            "text/plain": [
              "  0%|          | 0/170498071 [00:00<?, ?it/s]"
            ],
            "application/vnd.jupyter.widget-view+json": {
              "version_major": 2,
              "version_minor": 0,
              "model_id": "589d7d72fd344b9c84d91a51df98292b"
            },
            "application/json": {
              "n": 0,
              "total": 170498071,
              "elapsed": 0.06136274337768555,
              "ncols": null,
              "nrows": null,
              "prefix": "",
              "ascii": false,
              "unit": "it",
              "unit_scale": false,
              "rate": null,
              "bar_format": null,
              "postfix": null,
              "unit_divisor": 1000,
              "initial": 0,
              "colour": null
            }
          },
          "metadata": {}
        },
        {
          "output_type": "stream",
          "name": "stdout",
          "text": [
            "Extracting ./data/cifar-10-python.tar.gz to ./data\n",
            "Files already downloaded and verified\n"
          ]
        }
      ]
    },
    {
      "cell_type": "code",
      "source": [
        "classes = ('plane', 'car', 'bird', 'cat',\n",
        "           'deer', 'dog', 'frog', 'horse', 'ship', 'truck')"
      ],
      "metadata": {
        "id": "s0j__cPQWpTN"
      },
      "execution_count": 5,
      "outputs": []
    },
    {
      "cell_type": "code",
      "source": [
        "#example \n",
        "example = iter(Train_loader)\n",
        "image,label = example.next() \n",
        "plt.imshow(image[0][0])   #normalized images\n",
        "print(classes[label[0]])"
      ],
      "metadata": {
        "colab": {
          "base_uri": "https://localhost:8080/",
          "height": 284
        },
        "id": "VRZyRtXtUQ6g",
        "outputId": "75a8b92d-5337-45a8-b90f-6f3bf7616f18"
      },
      "execution_count": 6,
      "outputs": [
        {
          "output_type": "stream",
          "name": "stdout",
          "text": [
            "cat\n"
          ]
        },
        {
          "output_type": "display_data",
          "data": {
            "text/plain": [
              "<Figure size 432x288 with 1 Axes>"
            ],
            "image/png": "[encoded data removed]"
          },
          "metadata": {
            "needs_background": "light"
          }
        }
      ]
    },
    {
      "cell_type": "code",
      "source": [
        "class ConvNet(nn.Module):\n",
        "  def __init__(self):\n",
        "    super(ConvNet, self).__init__()\n",
        "    self.conv1 = nn.Conv2d(3,32,3)    #input_channels , output_channels , kernel_size(filter_size) , padding = 0 and stride = 1 as default   (30,30,32)\n",
        "    self.Pool1 = nn.MaxPool2d(2,2)\n",
        "    self.conv2 = nn.Conv2d(32,64,3)  #output_chanels , outputs_channels2                 \n",
        "    self.linear1 = nn.Linear(64*13*13,64)    #64 neurons and flatten              \n",
        "    self.linear2 = nn.Linear(64,32)\n",
        "    self.linear3 = nn.Linear(32,10)\n",
        "    self.dropout1 = nn.Dropout(p=0.5)\n",
        "    self.dropout2 = nn.Dropout(p=0.2)\n",
        "  \n",
        "  def forward(self,x):\n",
        "    out = self.conv1(x)          \n",
        "    out = F.relu(out) \n",
        "    out = self.Pool1(out)\n",
        "    out = self.conv2(out)\n",
        "    out = F.relu(out) \n",
        "    out = out.view(10,64*13*13)  #Flatten\n",
        "    out = self.dropout1(out)\n",
        "    out = self.linear1(out)\n",
        "    out = F.relu(out)\n",
        "    out = self.dropout2(out)\n",
        "    out = self.linear2(out)\n",
        "    out = F.relu(out)\n",
        "    out = self.linear3(out)  \n",
        "    return out"
      ],
      "metadata": {
        "id": "BgRpMKphVmiw"
      },
      "execution_count": 7,
      "outputs": []
    },
    {
      "cell_type": "code",
      "source": [
        "model = ConvNet().to(device)"
      ],
      "metadata": {
        "id": "wopZs6azfjXH"
      },
      "execution_count": 8,
      "outputs": []
    },
    {
      "cell_type": "code",
      "source": [
        "#model config\n",
        "Learning_rate = 0.001\n",
        "Loss = nn.CrossEntropyLoss()\n",
        "optimizer = torch.optim.Adam(model.parameters(),lr=Learning_rate)"
      ],
      "metadata": {
        "id": "bMVDGoHUhqc3"
      },
      "execution_count": 9,
      "outputs": []
    },
    {
      "cell_type": "code",
      "source": [
        "#Training\n",
        "epochs = 10\n",
        "for epoch in range(epochs) : \n",
        "  for i, (image , labels) in enumerate(Train_loader):\n",
        "    image =image.to(device)\n",
        "    labels =labels.to(device)\n",
        "    #forward \n",
        "    output = model(image)\n",
        "    loss = Loss(output, labels)\n",
        "    #backward\n",
        "    optimizer.zero_grad()\n",
        "    loss.backward()\n",
        "    optimizer.step()\n",
        "  print(f'epoch {epoch}/{epochs}      step : {i+1}/{len(Train_loader)}         loss: {loss.item():.4f}  ')\n"
      ],
      "metadata": {
        "id": "dGSkmNCOiNQT",
        "colab": {
          "base_uri": "https://localhost:8080/"
        },
        "outputId": "3986ec1f-669d-43b1-d384-611bae05af5e"
      },
      "execution_count": 11,
      "outputs": [
        {
          "output_type": "stream",
          "name": "stdout",
          "text": [
            "epoch0/10      step : 5000/5000         loss: 0.9610  \n",
            "epoch1/10      step : 5000/5000         loss: 0.7624  \n",
            "epoch2/10      step : 5000/5000         loss: 0.8117  \n",
            "epoch3/10      step : 5000/5000         loss: 2.1663  \n",
            "epoch4/10      step : 5000/5000         loss: 1.1731  \n",
            "epoch5/10      step : 5000/5000         loss: 1.4706  \n",
            "epoch6/10      step : 5000/5000         loss: 1.0772  \n",
            "epoch7/10      step : 5000/5000         loss: 0.9146  \n",
            "epoch8/10      step : 5000/5000         loss: 0.5046  \n",
            "epoch9/10      step : 5000/5000         loss: 0.6792  \n"
          ]
        }
      ]
    },
    {
      "cell_type": "code",
      "source": [
        "#evaluation\n",
        "with torch.no_grad():\n",
        "    n_correct = 0\n",
        "    n_samples = 0\n",
        "    n_class_correct = [0 for i in range(10)]\n",
        "    n_class_samples = [0 for i in range(10)]\n",
        "    for images, labels in Test_loader:\n",
        "        images = images.to(device)\n",
        "        labels = labels.to(device)\n",
        "        outputs = model(images)\n",
        "        # max returns (value ,index)\n",
        "        _, predicted = torch.max(outputs, 1)\n",
        "        n_samples += labels.size(0)\n",
        "        n_correct += (predicted == labels).sum().item()\n",
        "        \n",
        "        for i in range(4):\n",
        "            label = labels[i]\n",
        "            pred = predicted[i]\n",
        "            if (label == pred):\n",
        "                n_class_correct[label] += 1\n",
        "            n_class_samples[label] += 1\n",
        "\n",
        "    acc = 100.0 * n_correct / n_samples\n",
        "    print(f'Accuracy of the network: {acc} %')\n",
        "\n",
        "    for i in range(10):\n",
        "        acc = 100.0 * n_class_correct[i] / n_class_samples[i]\n",
        "        print(f'Accuracy of {classes[i]}: {acc} %')\n"
      ],
      "metadata": {
        "id": "kUmIgcclWFZQ",
        "colab": {
          "base_uri": "https://localhost:8080/"
        },
        "outputId": "af664119-ac21-42e2-e954-6ccdb139c348"
      },
      "execution_count": 12,
      "outputs": [
        {
          "output_type": "stream",
          "name": "stdout",
          "text": [
            "Accuracy of the network: 68.544 %\n",
            "Accuracy of plane: 67.2663668165917 %\n",
            "Accuracy of car: 81.71545968156137 %\n",
            "Accuracy of bird: 61.113849186791526 %\n",
            "Accuracy of cat: 45.579567779960705 %\n",
            "Accuracy of deer: 73.99598393574297 %\n",
            "Accuracy of dog: 48.22557122022363 %\n",
            "Accuracy of frog: 68.02383316782522 %\n",
            "Accuracy of horse: 71.79752066115702 %\n",
            "Accuracy of ship: 87.72018117765475 %\n",
            "Accuracy of truck: 80.20989505247377 %\n"
          ]
        }
      ]
    },
    {
      "cell_type": "code",
      "source": [
        "#another method for evaluation \n",
        "j=0\n",
        "l=0\n",
        "i=0\n",
        "with torch.no_grad():\n",
        "    n_correct = 0\n",
        "    n_samples = 0\n",
        "    n_class_correct = [0 for i in range(10)]\n",
        "    n_class_samples = [0 for i in range(10)]\n",
        "    for images, labels in Test_loader:\n",
        "        images = images.to(device)\n",
        "        labels = labels.to(device)\n",
        "        outputs = model(images)\n",
        "        _, predicted = torch.max(outputs, 1)\n",
        "        n_samples += labels.size(0)\n",
        "        for i in range(10) : \n",
        "           if predicted[i] != labels[i] : \n",
        "              l+=1\n",
        "          \n",
        "    \n",
        "\n",
        "print(f' number of wrong predictions: {l}        accuracy: {1-(l/n_samples)}')"
      ],
      "metadata": {
        "id": "XW2gydP0qGta",
        "colab": {
          "base_uri": "https://localhost:8080/"
        },
        "outputId": "926c61ef-74e7-43b0-9378-3d3dea3696bb"
      },
      "execution_count": 14,
      "outputs": [
        {
          "output_type": "stream",
          "name": "stdout",
          "text": [
            " number of wrong predictions: 15677        accuracy: 0.6864600000000001\n"
          ]
        }
      ]
    },
    {
      "cell_type": "code",
      "source": [
        "#we see that the accauracy decreased because of adding dropout, so we don't need to use, but this is just an example to show how to use it and the effect of dropout on the accuracy of the model \n",
        "#this is a test of dropout on my neural network,partically using dropout out is to avoid overfitting problem\n",
        "#i use this website for calculating the convolution layers output sizes https://madebyollin.github.io/convnet-calculator/ "
      ],
      "metadata": {
        "id": "zFsCOn1MUfwV"
      },
      "execution_count": null,
      "outputs": []
    }
  ]
}
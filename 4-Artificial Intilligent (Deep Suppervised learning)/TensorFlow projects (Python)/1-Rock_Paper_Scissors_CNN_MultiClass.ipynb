{
  "nbformat": 4,
  "nbformat_minor": 0,
  "metadata": {
    "colab": {
      "name": "rock_paper_scissors_CNN.ipynb",
      "provenance": [],
      "collapsed_sections": []
    },
    "kernelspec": {
      "name": "python3",
      "display_name": "Python 3"
    },
    "language_info": {
      "name": "python"
    },
    "accelerator": "GPU",
    "gpuClass": "standard"
  },
  "cells": [
    {
      "cell_type": "code",
      "source": [
        "# Download the train set\n",
        "!wget https://storage.googleapis.com/tensorflow-1-public/course2/week4/rps.zip\n",
        "    \n",
        "# Download the test set\n",
        "!wget https://storage.googleapis.com/tensorflow-1-public/course2/week4/rps-test-set.zip"
      ],
      "metadata": {
        "id": "DMtRtmetGORK",
        "colab": {
          "base_uri": "https://localhost:8080/"
        },
        "outputId": "f86aab97-d084-4d91-f34f-b330a4143d91"
      },
      "execution_count": null,
      "outputs": [
        {
          "output_type": "stream",
          "name": "stdout",
          "text": [
            "--2022-08-04 14:14:43--  https://storage.googleapis.com/tensorflow-1-public/course2/week4/rps.zip\n",
            "Resolving storage.googleapis.com (storage.googleapis.com)... 74.125.24.128, 172.217.194.128, 142.251.10.128, ...\n",
            "Connecting to storage.googleapis.com (storage.googleapis.com)|74.125.24.128|:443... connected.\n",
            "HTTP request sent, awaiting response... 200 OK\n",
            "Length: 200682221 (191M) [application/zip]\n",
            "Saving to: ‘rps.zip’\n",
            "\n",
            "rps.zip             100%[===================>] 191.38M  41.2MB/s    in 4.6s    \n",
            "\n",
            "2022-08-04 14:14:48 (41.2 MB/s) - ‘rps.zip’ saved [200682221/200682221]\n",
            "\n",
            "--2022-08-04 14:14:48--  https://storage.googleapis.com/tensorflow-1-public/course2/week4/rps-test-set.zip\n",
            "Resolving storage.googleapis.com (storage.googleapis.com)... 74.125.200.128, 74.125.68.128, 74.125.24.128, ...\n",
            "Connecting to storage.googleapis.com (storage.googleapis.com)|74.125.200.128|:443... connected.\n",
            "HTTP request sent, awaiting response... 200 OK\n",
            "Length: 29516758 (28M) [application/zip]\n",
            "Saving to: ‘rps-test-set.zip’\n",
            "\n",
            "rps-test-set.zip    100%[===================>]  28.15M  48.4MB/s    in 0.6s    \n",
            "\n",
            "2022-08-04 14:14:50 (48.4 MB/s) - ‘rps-test-set.zip’ saved [29516758/29516758]\n",
            "\n"
          ]
        }
      ]
    },
    {
      "cell_type": "code",
      "execution_count": null,
      "metadata": {
        "id": "h8t80Kct-Xf5"
      },
      "outputs": [],
      "source": [
        "import zipfile\n",
        "#unzip \n",
        "zip_file = \"./rps.zip\"\n",
        "zip_ref = zipfile.ZipFile(zip_file, 'r')\n",
        "zip_ref.extractall(path=\"./rps/\")\n",
        "\n",
        "zip_ref.close()\n",
        "\n",
        "\n"
      ]
    },
    {
      "cell_type": "code",
      "source": [
        "import zipfile\n",
        "#unzip \n",
        "zip_file = \"./rps-test-set.zip\"\n",
        "zip_ref = zipfile.ZipFile(zip_file, 'r')\n",
        "zip_ref.extractall(path=\"./test_data/\")\n",
        "\n",
        "zip_ref.close()"
      ],
      "metadata": {
        "id": "SrMOUJ3yF8I4"
      },
      "execution_count": null,
      "outputs": []
    },
    {
      "cell_type": "code",
      "source": [
        "import os \n",
        "train_dir = os.path.join(\"./rps/rps\")\n",
        "eval_dir =os.path.join(\"test_data/rps-test-set\")"
      ],
      "metadata": {
        "id": "CILo3Q44-ebN"
      },
      "execution_count": null,
      "outputs": []
    },
    {
      "cell_type": "code",
      "source": [
        "rock_train_dir = os.path.join(train_dir,'rock')\n",
        "paper_train_dir = os.path.join(train_dir,'paper')\n",
        "scissors_train_dir = os.path.join(train_dir,'scissors')\n",
        "\n",
        "\n",
        "rock_eval_dir = os.path.join(eval_dir,'rock')\n",
        "paper_eval_dir = os.path.join(eval_dir,'paper')\n",
        "scissors_eval_dir = os.path.join(eval_dir,'scessors')\n",
        "\n",
        "a=os.listdir(rock_train_dir)\n",
        "print(a[:10])"
      ],
      "metadata": {
        "id": "tXtxgvlFG1e3",
        "colab": {
          "base_uri": "https://localhost:8080/"
        },
        "outputId": "0fb320cd-9801-4a62-a212-fa831eabcd00"
      },
      "execution_count": null,
      "outputs": [
        {
          "output_type": "stream",
          "name": "stdout",
          "text": [
            "['rock07-k03-044.png', 'rock04-022.png', 'rock03-051.png', 'rock07-k03-017.png', 'rock02-044.png', 'rock07-k03-078.png', 'rock03-053.png', 'rock03-084.png', 'rock01-029.png', 'rock07-k03-080.png']\n"
          ]
        }
      ]
    },
    {
      "cell_type": "code",
      "source": [
        "import tensorflow as tf\n",
        "from tensorflow import keras \n",
        "from tensorflow.keras import Model\n",
        "from tensorflow.keras import layers "
      ],
      "metadata": {
        "id": "_yDJAVsuHBmc"
      },
      "execution_count": null,
      "outputs": []
    },
    {
      "cell_type": "code",
      "source": [
        "model = keras.Sequential ([\n",
        "    layers.Conv2D(64,3,activation='relu',input_shape=(150,150,3)),\n",
        "    layers.MaxPooling2D(),\n",
        "    layers.Conv2D(512,3,activation='relu',input_shape=(150,150,3)),\n",
        "    layers.MaxPooling2D(),\n",
        "    layers.Conv2D(1024,3,activation='relu',input_shape=(150,150,3)),\n",
        "    layers.MaxPooling2D(),\n",
        "    layers.Flatten(),\n",
        "    layers.Dense(128,activation='relu'),\n",
        "    layers.Dense(3,activation='softmax')\n",
        "])"
      ],
      "metadata": {
        "id": "q99SDl8RIA4r"
      },
      "execution_count": null,
      "outputs": []
    },
    {
      "cell_type": "code",
      "source": [
        "model.summary()"
      ],
      "metadata": {
        "id": "gtLw5wiFI5li",
        "colab": {
          "base_uri": "https://localhost:8080/"
        },
        "outputId": "99fbc943-6df6-40fa-a0dc-03d173728165"
      },
      "execution_count": null,
      "outputs": [
        {
          "output_type": "stream",
          "name": "stdout",
          "text": [
            "Model: \"sequential\"\n",
            "_________________________________________________________________\n",
            " Layer (type)                Output Shape              Param #   \n",
            "=================================================================\n",
            " conv2d (Conv2D)             (None, 148, 148, 64)      1792      \n",
            "                                                                 \n",
            " max_pooling2d (MaxPooling2D  (None, 74, 74, 64)       0         \n",
            " )                                                               \n",
            "                                                                 \n",
            " conv2d_1 (Conv2D)           (None, 72, 72, 512)       295424    \n",
            "                                                                 \n",
            " max_pooling2d_1 (MaxPooling  (None, 36, 36, 512)      0         \n",
            " 2D)                                                             \n",
            "                                                                 \n",
            " conv2d_2 (Conv2D)           (None, 34, 34, 1024)      4719616   \n",
            "                                                                 \n",
            " max_pooling2d_2 (MaxPooling  (None, 17, 17, 1024)     0         \n",
            " 2D)                                                             \n",
            "                                                                 \n",
            " flatten (Flatten)           (None, 295936)            0         \n",
            "                                                                 \n",
            " dense (Dense)               (None, 128)               37879936  \n",
            "                                                                 \n",
            " dense_1 (Dense)             (None, 3)                 387       \n",
            "                                                                 \n",
            "=================================================================\n",
            "Total params: 42,897,155\n",
            "Trainable params: 42,897,155\n",
            "Non-trainable params: 0\n",
            "_________________________________________________________________\n"
          ]
        }
      ]
    },
    {
      "cell_type": "code",
      "source": [
        "model.compile(loss=\"categorical_crossentropy\", optimizer=keras.optimizers.Adam(lr=0.001), metrics=[\"accuracy\"])"
      ],
      "metadata": {
        "colab": {
          "base_uri": "https://localhost:8080/"
        },
        "id": "ZwLfIVAwJj-w",
        "outputId": "826a4a15-d9af-400b-ae07-951eccbb3f39"
      },
      "execution_count": null,
      "outputs": [
        {
          "output_type": "stream",
          "name": "stderr",
          "text": [
            "/usr/local/lib/python3.7/dist-packages/keras/optimizer_v2/adam.py:105: UserWarning: The `lr` argument is deprecated, use `learning_rate` instead.\n",
            "  super(Adam, self).__init__(name, **kwargs)\n"
          ]
        }
      ]
    },
    {
      "cell_type": "code",
      "source": [
        "from tensorflow.keras.preprocessing.image import ImageDataGenerator "
      ],
      "metadata": {
        "id": "3ykhaNpbKDcK"
      },
      "execution_count": null,
      "outputs": []
    },
    {
      "cell_type": "code",
      "source": [
        "train_data_gen = ImageDataGenerator(rescale = 1./255.,\n",
        "                                   rotation_range = 40,\n",
        "                                   width_shift_range = 0.2,\n",
        "                                   height_shift_range = 0.2,\n",
        "                                   shear_range = 0.2,\n",
        "                                   zoom_range = 0.2,\n",
        "                                   horizontal_flip = True)\n",
        "eval_data_gen = ImageDataGenerator(rescale=1.0/255.)"
      ],
      "metadata": {
        "id": "x_8KwybsKMt2"
      },
      "execution_count": null,
      "outputs": []
    },
    {
      "cell_type": "code",
      "source": [
        "Train_Data = train_data_gen.flow_from_directory(train_dir,batch_size=20,class_mode='categorical',target_size=(150,150))\n",
        "Eval_Data = eval_data_gen.flow_from_directory(eval_dir,batch_size=20,class_mode='categorical',target_size=(150,150))"
      ],
      "metadata": {
        "colab": {
          "base_uri": "https://localhost:8080/"
        },
        "id": "nd5kh-jsKxtC",
        "outputId": "aa342061-c4f7-47b4-d364-9d2c32695002"
      },
      "execution_count": null,
      "outputs": [
        {
          "output_type": "stream",
          "name": "stdout",
          "text": [
            "Found 2520 images belonging to 3 classes.\n",
            "Found 372 images belonging to 3 classes.\n"
          ]
        }
      ]
    },
    {
      "cell_type": "code",
      "source": [
        "#model.fit(Train_Data , validation_data = Eval_Data , batch_size = 64 , epochs = 100 )"
      ],
      "metadata": {
        "colab": {
          "base_uri": "https://localhost:8080/"
        },
        "id": "E1TtSL54L3z1",
        "outputId": "514030ba-4af9-4f1d-dfe1-a3a143847f16"
      },
      "execution_count": null,
      "outputs": [
        {
          "output_type": "stream",
          "name": "stdout",
          "text": [
            "Epoch 1/100\n",
            "126/126 [==============================] - 41s 219ms/step - loss: 1.2892 - accuracy: 0.3833 - val_loss: 0.8096 - val_accuracy: 0.5860\n",
            "Epoch 2/100\n",
            "126/126 [==============================] - 27s 211ms/step - loss: 0.7554 - accuracy: 0.6643 - val_loss: 0.2603 - val_accuracy: 0.9570\n",
            "Epoch 3/100\n",
            "126/126 [==============================] - 28s 219ms/step - loss: 0.4857 - accuracy: 0.8143 - val_loss: 0.2706 - val_accuracy: 0.8737\n",
            "Epoch 4/100\n",
            "126/126 [==============================] - 28s 220ms/step - loss: 0.3282 - accuracy: 0.8766 - val_loss: 0.1831 - val_accuracy: 0.9247\n",
            "Epoch 5/100\n",
            "126/126 [==============================] - 28s 220ms/step - loss: 0.2349 - accuracy: 0.9159 - val_loss: 0.0944 - val_accuracy: 0.9651\n",
            "Epoch 6/100\n",
            "126/126 [==============================] - 28s 219ms/step - loss: 0.2199 - accuracy: 0.9222 - val_loss: 0.1912 - val_accuracy: 0.9220\n",
            "Epoch 7/100\n",
            "126/126 [==============================] - 28s 222ms/step - loss: 0.1732 - accuracy: 0.9401 - val_loss: 0.1607 - val_accuracy: 0.9247\n",
            "Epoch 8/100\n",
            "126/126 [==============================] - 28s 223ms/step - loss: 0.1456 - accuracy: 0.9540 - val_loss: 0.3849 - val_accuracy: 0.8360\n",
            "Epoch 9/100\n",
            "126/126 [==============================] - 28s 219ms/step - loss: 0.1555 - accuracy: 0.9508 - val_loss: 0.5137 - val_accuracy: 0.8306\n",
            "Epoch 10/100\n",
            "126/126 [==============================] - 28s 220ms/step - loss: 0.1189 - accuracy: 0.9615 - val_loss: 0.4604 - val_accuracy: 0.8226\n",
            "Epoch 11/100\n",
            "126/126 [==============================] - 28s 226ms/step - loss: 0.1018 - accuracy: 0.9675 - val_loss: 0.3103 - val_accuracy: 0.9032\n",
            "Epoch 12/100\n",
            "126/126 [==============================] - 27s 213ms/step - loss: 0.0971 - accuracy: 0.9690 - val_loss: 0.2058 - val_accuracy: 0.9140\n",
            "Epoch 13/100\n",
            "126/126 [==============================] - 27s 213ms/step - loss: 0.0754 - accuracy: 0.9738 - val_loss: 0.0855 - val_accuracy: 0.9597\n",
            "Epoch 14/100\n",
            "126/126 [==============================] - 27s 211ms/step - loss: 0.0658 - accuracy: 0.9794 - val_loss: 0.1261 - val_accuracy: 0.9462\n",
            "Epoch 15/100\n",
            "126/126 [==============================] - 27s 212ms/step - loss: 0.0983 - accuracy: 0.9690 - val_loss: 0.3977 - val_accuracy: 0.8387\n",
            "Epoch 16/100\n",
            "126/126 [==============================] - 27s 212ms/step - loss: 0.0756 - accuracy: 0.9746 - val_loss: 0.0689 - val_accuracy: 0.9758\n",
            "Epoch 17/100\n",
            "126/126 [==============================] - 27s 217ms/step - loss: 0.0709 - accuracy: 0.9770 - val_loss: 0.0459 - val_accuracy: 0.9866\n",
            "Epoch 18/100\n",
            "126/126 [==============================] - 27s 211ms/step - loss: 0.0617 - accuracy: 0.9806 - val_loss: 0.0429 - val_accuracy: 0.9812\n",
            "Epoch 19/100\n",
            "126/126 [==============================] - 27s 211ms/step - loss: 0.0514 - accuracy: 0.9837 - val_loss: 0.2893 - val_accuracy: 0.8978\n",
            "Epoch 20/100\n",
            "126/126 [==============================] - 27s 212ms/step - loss: 0.0696 - accuracy: 0.9770 - val_loss: 0.2881 - val_accuracy: 0.8763\n",
            "Epoch 21/100\n",
            "126/126 [==============================] - 27s 213ms/step - loss: 0.0652 - accuracy: 0.9802 - val_loss: 0.1094 - val_accuracy: 0.9516\n",
            "Epoch 22/100\n",
            "126/126 [==============================] - 28s 218ms/step - loss: 0.0511 - accuracy: 0.9790 - val_loss: 0.0742 - val_accuracy: 0.9543\n",
            "Epoch 23/100\n",
            "126/126 [==============================] - 27s 212ms/step - loss: 0.0630 - accuracy: 0.9766 - val_loss: 0.1785 - val_accuracy: 0.9274\n",
            "Epoch 24/100\n",
            "126/126 [==============================] - 27s 213ms/step - loss: 0.0583 - accuracy: 0.9806 - val_loss: 0.0411 - val_accuracy: 0.9812\n",
            "Epoch 25/100\n",
            "126/126 [==============================] - 27s 212ms/step - loss: 0.0511 - accuracy: 0.9817 - val_loss: 0.0365 - val_accuracy: 0.9892\n",
            "Epoch 26/100\n",
            "126/126 [==============================] - 27s 213ms/step - loss: 0.0767 - accuracy: 0.9746 - val_loss: 0.0973 - val_accuracy: 0.9731\n",
            "Epoch 27/100\n",
            "126/126 [==============================] - 28s 218ms/step - loss: 0.0444 - accuracy: 0.9833 - val_loss: 0.2183 - val_accuracy: 0.9167\n",
            "Epoch 28/100\n",
            "126/126 [==============================] - 27s 212ms/step - loss: 0.0612 - accuracy: 0.9817 - val_loss: 0.0114 - val_accuracy: 1.0000\n",
            "Epoch 29/100\n",
            "126/126 [==============================] - 27s 213ms/step - loss: 0.0471 - accuracy: 0.9841 - val_loss: 0.1846 - val_accuracy: 0.9382\n",
            "Epoch 30/100\n",
            "126/126 [==============================] - 27s 212ms/step - loss: 0.0625 - accuracy: 0.9825 - val_loss: 0.0773 - val_accuracy: 0.9651\n",
            "Epoch 31/100\n",
            "126/126 [==============================] - 27s 212ms/step - loss: 0.0281 - accuracy: 0.9909 - val_loss: 0.1483 - val_accuracy: 0.9516\n",
            "Epoch 32/100\n",
            "126/126 [==============================] - 28s 218ms/step - loss: 0.0376 - accuracy: 0.9853 - val_loss: 0.0467 - val_accuracy: 0.9892\n",
            "Epoch 33/100\n",
            "126/126 [==============================] - 27s 211ms/step - loss: 0.0205 - accuracy: 0.9925 - val_loss: 0.0767 - val_accuracy: 0.9812\n",
            "Epoch 34/100\n",
            "126/126 [==============================] - 27s 212ms/step - loss: 0.0367 - accuracy: 0.9869 - val_loss: 0.2429 - val_accuracy: 0.9113\n",
            "Epoch 35/100\n",
            "126/126 [==============================] - 27s 211ms/step - loss: 0.0434 - accuracy: 0.9865 - val_loss: 0.2751 - val_accuracy: 0.9328\n",
            "Epoch 36/100\n",
            "126/126 [==============================] - 27s 211ms/step - loss: 0.0621 - accuracy: 0.9790 - val_loss: 0.0793 - val_accuracy: 0.9677\n",
            "Epoch 37/100\n",
            "126/126 [==============================] - 28s 218ms/step - loss: 0.0434 - accuracy: 0.9837 - val_loss: 0.1416 - val_accuracy: 0.9677\n",
            "Epoch 38/100\n",
            "126/126 [==============================] - 27s 212ms/step - loss: 0.0282 - accuracy: 0.9893 - val_loss: 0.1387 - val_accuracy: 0.9570\n",
            "Epoch 39/100\n",
            "126/126 [==============================] - 27s 211ms/step - loss: 0.0539 - accuracy: 0.9821 - val_loss: 0.0739 - val_accuracy: 0.9731\n",
            "Epoch 40/100\n",
            "126/126 [==============================] - 27s 211ms/step - loss: 0.0266 - accuracy: 0.9909 - val_loss: 0.0904 - val_accuracy: 0.9704\n",
            "Epoch 41/100\n",
            "126/126 [==============================] - 27s 211ms/step - loss: 0.0426 - accuracy: 0.9893 - val_loss: 0.0848 - val_accuracy: 0.9785\n",
            "Epoch 42/100\n",
            "126/126 [==============================] - 27s 217ms/step - loss: 0.0470 - accuracy: 0.9841 - val_loss: 0.1126 - val_accuracy: 0.9516\n",
            "Epoch 43/100\n",
            "126/126 [==============================] - 27s 212ms/step - loss: 0.0465 - accuracy: 0.9837 - val_loss: 0.0512 - val_accuracy: 0.9866\n",
            "Epoch 44/100\n",
            "126/126 [==============================] - 27s 211ms/step - loss: 0.0247 - accuracy: 0.9909 - val_loss: 0.0417 - val_accuracy: 0.9731\n",
            "Epoch 45/100\n",
            "126/126 [==============================] - 27s 211ms/step - loss: 0.0470 - accuracy: 0.9841 - val_loss: 0.1647 - val_accuracy: 0.9570\n",
            "Epoch 46/100\n",
            "126/126 [==============================] - 27s 211ms/step - loss: 0.0343 - accuracy: 0.9897 - val_loss: 0.0453 - val_accuracy: 0.9758\n",
            "Epoch 47/100\n",
            "126/126 [==============================] - 27s 217ms/step - loss: 0.0469 - accuracy: 0.9849 - val_loss: 0.0386 - val_accuracy: 0.9812\n",
            "Epoch 48/100\n",
            "126/126 [==============================] - 27s 212ms/step - loss: 0.0322 - accuracy: 0.9897 - val_loss: 0.3767 - val_accuracy: 0.8790\n",
            "Epoch 49/100\n",
            "126/126 [==============================] - 27s 212ms/step - loss: 0.0323 - accuracy: 0.9917 - val_loss: 0.1152 - val_accuracy: 0.9570\n",
            "Epoch 50/100\n",
            "126/126 [==============================] - 27s 211ms/step - loss: 0.0345 - accuracy: 0.9909 - val_loss: 0.0184 - val_accuracy: 0.9919\n",
            "Epoch 51/100\n",
            "126/126 [==============================] - 27s 210ms/step - loss: 0.0321 - accuracy: 0.9889 - val_loss: 0.0660 - val_accuracy: 0.9677\n",
            "Epoch 52/100\n",
            "126/126 [==============================] - 27s 211ms/step - loss: 0.0245 - accuracy: 0.9929 - val_loss: 0.0493 - val_accuracy: 0.9892\n",
            "Epoch 53/100\n",
            "126/126 [==============================] - 27s 217ms/step - loss: 0.0444 - accuracy: 0.9865 - val_loss: 0.1294 - val_accuracy: 0.9462\n",
            "Epoch 54/100\n",
            "126/126 [==============================] - 27s 211ms/step - loss: 0.0226 - accuracy: 0.9909 - val_loss: 0.2202 - val_accuracy: 0.9409\n",
            "Epoch 55/100\n",
            "126/126 [==============================] - 27s 210ms/step - loss: 0.0091 - accuracy: 0.9968 - val_loss: 0.0383 - val_accuracy: 0.9919\n",
            "Epoch 56/100\n",
            "126/126 [==============================] - 27s 211ms/step - loss: 0.0420 - accuracy: 0.9845 - val_loss: 0.0418 - val_accuracy: 0.9758\n",
            "Epoch 57/100\n",
            "126/126 [==============================] - 27s 211ms/step - loss: 0.0306 - accuracy: 0.9873 - val_loss: 0.0779 - val_accuracy: 0.9758\n",
            "Epoch 58/100\n",
            "126/126 [==============================] - 27s 217ms/step - loss: 0.0274 - accuracy: 0.9917 - val_loss: 0.0039 - val_accuracy: 1.0000\n",
            "Epoch 59/100\n",
            "126/126 [==============================] - 27s 211ms/step - loss: 0.0279 - accuracy: 0.9913 - val_loss: 0.1322 - val_accuracy: 0.9543\n",
            "Epoch 60/100\n",
            "126/126 [==============================] - 27s 211ms/step - loss: 0.0399 - accuracy: 0.9905 - val_loss: 0.0310 - val_accuracy: 0.9839\n",
            "Epoch 61/100\n",
            "126/126 [==============================] - 27s 212ms/step - loss: 0.0306 - accuracy: 0.9905 - val_loss: 0.0470 - val_accuracy: 0.9785\n",
            "Epoch 62/100\n",
            "126/126 [==============================] - 27s 211ms/step - loss: 0.0265 - accuracy: 0.9897 - val_loss: 0.0625 - val_accuracy: 0.9704\n",
            "Epoch 63/100\n",
            "126/126 [==============================] - 27s 216ms/step - loss: 0.0269 - accuracy: 0.9897 - val_loss: 0.2561 - val_accuracy: 0.9140\n",
            "Epoch 64/100\n",
            "126/126 [==============================] - 27s 211ms/step - loss: 0.0230 - accuracy: 0.9937 - val_loss: 0.0021 - val_accuracy: 1.0000\n",
            "Epoch 65/100\n",
            "126/126 [==============================] - 27s 211ms/step - loss: 0.0075 - accuracy: 0.9972 - val_loss: 0.0024 - val_accuracy: 1.0000\n",
            "Epoch 66/100\n",
            "126/126 [==============================] - 27s 210ms/step - loss: 0.0284 - accuracy: 0.9913 - val_loss: 0.0480 - val_accuracy: 0.9892\n",
            "Epoch 67/100\n",
            "126/126 [==============================] - 27s 210ms/step - loss: 0.0326 - accuracy: 0.9893 - val_loss: 0.0945 - val_accuracy: 0.9624\n",
            "Epoch 68/100\n",
            "126/126 [==============================] - 27s 217ms/step - loss: 0.0160 - accuracy: 0.9937 - val_loss: 0.0251 - val_accuracy: 0.9866\n",
            "Epoch 69/100\n",
            "126/126 [==============================] - 27s 211ms/step - loss: 0.0662 - accuracy: 0.9786 - val_loss: 0.0316 - val_accuracy: 0.9812\n",
            "Epoch 70/100\n",
            "126/126 [==============================] - 27s 210ms/step - loss: 0.0267 - accuracy: 0.9917 - val_loss: 0.0013 - val_accuracy: 1.0000\n",
            "Epoch 71/100\n",
            "126/126 [==============================] - 27s 212ms/step - loss: 0.0321 - accuracy: 0.9893 - val_loss: 0.0119 - val_accuracy: 0.9946\n",
            "Epoch 72/100\n",
            "126/126 [==============================] - 27s 212ms/step - loss: 0.0091 - accuracy: 0.9972 - val_loss: 0.0162 - val_accuracy: 0.9919\n",
            "Epoch 73/100\n",
            "126/126 [==============================] - 27s 211ms/step - loss: 0.0183 - accuracy: 0.9968 - val_loss: 0.0190 - val_accuracy: 0.9866\n",
            "Epoch 74/100\n",
            "126/126 [==============================] - 27s 216ms/step - loss: 0.0141 - accuracy: 0.9960 - val_loss: 0.0593 - val_accuracy: 0.9785\n",
            "Epoch 75/100\n",
            "126/126 [==============================] - 27s 212ms/step - loss: 0.0205 - accuracy: 0.9913 - val_loss: 0.1272 - val_accuracy: 0.9651\n",
            "Epoch 76/100\n",
            "126/126 [==============================] - 27s 212ms/step - loss: 0.0268 - accuracy: 0.9909 - val_loss: 0.0749 - val_accuracy: 0.9758\n",
            "Epoch 77/100\n",
            "126/126 [==============================] - 27s 211ms/step - loss: 0.0255 - accuracy: 0.9933 - val_loss: 0.1047 - val_accuracy: 0.9731\n",
            "Epoch 78/100\n",
            "126/126 [==============================] - 27s 217ms/step - loss: 0.0280 - accuracy: 0.9917 - val_loss: 0.0997 - val_accuracy: 0.9704\n",
            "Epoch 79/100\n",
            "126/126 [==============================] - 27s 217ms/step - loss: 0.0233 - accuracy: 0.9905 - val_loss: 0.3083 - val_accuracy: 0.9274\n",
            "Epoch 80/100\n",
            "126/126 [==============================] - 28s 219ms/step - loss: 0.0322 - accuracy: 0.9913 - val_loss: 0.0425 - val_accuracy: 0.9704\n",
            "Epoch 81/100\n",
            "126/126 [==============================] - 27s 210ms/step - loss: 0.0364 - accuracy: 0.9901 - val_loss: 0.0557 - val_accuracy: 0.9758\n",
            "Epoch 82/100\n",
            "126/126 [==============================] - 27s 210ms/step - loss: 0.0250 - accuracy: 0.9917 - val_loss: 0.0749 - val_accuracy: 0.9704\n",
            "Epoch 83/100\n",
            "126/126 [==============================] - 27s 211ms/step - loss: 0.0196 - accuracy: 0.9925 - val_loss: 0.3517 - val_accuracy: 0.8817\n",
            "Epoch 84/100\n",
            "126/126 [==============================] - 27s 216ms/step - loss: 0.0132 - accuracy: 0.9960 - val_loss: 0.0878 - val_accuracy: 0.9731\n",
            "Epoch 85/100\n",
            "126/126 [==============================] - 27s 210ms/step - loss: 0.0084 - accuracy: 0.9964 - val_loss: 0.0688 - val_accuracy: 0.9597\n",
            "Epoch 86/100\n",
            "126/126 [==============================] - 27s 211ms/step - loss: 0.0164 - accuracy: 0.9948 - val_loss: 0.1837 - val_accuracy: 0.9382\n",
            "Epoch 87/100\n",
            "126/126 [==============================] - 28s 221ms/step - loss: 0.0163 - accuracy: 0.9929 - val_loss: 0.0034 - val_accuracy: 1.0000\n",
            "Epoch 88/100\n",
            "126/126 [==============================] - 30s 234ms/step - loss: 0.0238 - accuracy: 0.9933 - val_loss: 0.0299 - val_accuracy: 1.0000\n",
            "Epoch 89/100\n",
            "126/126 [==============================] - 29s 226ms/step - loss: 0.0208 - accuracy: 0.9933 - val_loss: 0.1245 - val_accuracy: 0.9409\n",
            "Epoch 90/100\n",
            "126/126 [==============================] - 27s 214ms/step - loss: 0.0243 - accuracy: 0.9917 - val_loss: 0.0584 - val_accuracy: 0.9731\n",
            "Epoch 91/100\n",
            "126/126 [==============================] - 28s 219ms/step - loss: 0.0097 - accuracy: 0.9964 - val_loss: 0.1045 - val_accuracy: 0.9462\n",
            "Epoch 92/100\n",
            "126/126 [==============================] - 28s 220ms/step - loss: 0.0333 - accuracy: 0.9893 - val_loss: 0.0440 - val_accuracy: 0.9866\n",
            "Epoch 93/100\n",
            "126/126 [==============================] - 28s 223ms/step - loss: 0.0217 - accuracy: 0.9940 - val_loss: 0.3920 - val_accuracy: 0.9194\n",
            "Epoch 94/100\n",
            "126/126 [==============================] - 27s 211ms/step - loss: 0.0134 - accuracy: 0.9960 - val_loss: 0.0954 - val_accuracy: 0.9543\n",
            "Epoch 95/100\n",
            "126/126 [==============================] - 27s 212ms/step - loss: 0.0099 - accuracy: 0.9976 - val_loss: 0.0229 - val_accuracy: 0.9892\n",
            "Epoch 96/100\n",
            "126/126 [==============================] - 27s 215ms/step - loss: 0.0098 - accuracy: 0.9956 - val_loss: 0.0045 - val_accuracy: 1.0000\n",
            "Epoch 97/100\n",
            "126/126 [==============================] - 27s 215ms/step - loss: 0.0186 - accuracy: 0.9956 - val_loss: 0.2640 - val_accuracy: 0.9301\n",
            "Epoch 98/100\n",
            "126/126 [==============================] - 27s 217ms/step - loss: 0.0224 - accuracy: 0.9925 - val_loss: 0.0220 - val_accuracy: 0.9892\n",
            "Epoch 99/100\n",
            "126/126 [==============================] - 27s 215ms/step - loss: 0.0260 - accuracy: 0.9917 - val_loss: 0.0478 - val_accuracy: 0.9785\n",
            "Epoch 100/100\n",
            "126/126 [==============================] - 27s 216ms/step - loss: 0.0264 - accuracy: 0.9917 - val_loss: 0.0308 - val_accuracy: 0.9758\n"
          ]
        },
        {
          "output_type": "execute_result",
          "data": {
            "text/plain": [
              "<keras.callbacks.History at 0x7faab054ce90>"
            ]
          },
          "metadata": {},
          "execution_count": 13
        }
      ]
    },
    {
      "cell_type": "code",
      "source": [
        "#plot images \n",
        "\n",
        "%matplotlib inline\n",
        "from matplotlib import pyplot as plt \n",
        "from matplotlib import image as mpimg\n",
        "\n",
        "pic_index = 2 \n",
        "\n",
        "next_rock = [os.path.join(rock_train_dir,fname)\n",
        "            for fname in os.listdir(rock_train_dir)[pic_index-2:pic_index]]\n",
        "\n",
        "next_paper = [os.path.join(paper_train_dir,fname)\n",
        "            for fname in os.listdir(paper_train_dir)[pic_index-2:pic_index]]\n",
        "\n",
        "next_scissors = [os.path.join(scissors_train_dir,fname)\n",
        "            for fname in os.listdir(scissors_train_dir)[pic_index-2:pic_index]]\n",
        "\n",
        "\n",
        "for i, img_path in enumerate(next_rock+next_paper+next_scissors) :          #(1,path1),(2,path2)....\n",
        "  img = mpimg.imread(img_path)\n",
        "  plt.imshow(img)\n",
        "  plt.axis(False)\n",
        "  plt.show"
      ],
      "metadata": {
        "id": "49pS9bRiMqUT",
        "colab": {
          "base_uri": "https://localhost:8080/",
          "height": 248
        },
        "outputId": "afcd2d1e-a2ee-4458-8091-ba9d626586f0"
      },
      "execution_count": null,
      "outputs": [
        {
          "output_type": "display_data",
          "data": {
            "text/plain": [
              "<Figure size 432x288 with 1 Axes>"
            ],
            "image/png": "[encoded data removed]"
          },
          "metadata": {
            "needs_background": "light"
          }
        }
      ]
    },
    {
      "cell_type": "code",
      "source": [
        "# evaluate from extern data \n",
        "import numpy as np \n",
        "from google.colab import files\n",
        "from keras.preprocessing import image \n",
        "\n",
        "uploaded = files.upload()      #import your file \n",
        "\n",
        "for fn in uploaded.keys() : \n",
        "  path = fn \n",
        "  img = image.load_img(path , target_size=(150,150))\n",
        "  x = image.img_to_array(img)\n",
        "  images = np.expand_dims(x, axis=0)      #from ([1,2]) to ([[1,2]]) #from shape (,2) to (1,2)\n",
        "  classes = model.predict(images)\n",
        "  print(fn)\n",
        "  print(classes)"
      ],
      "metadata": {
        "id": "-wNK90IYYEnU"
      },
      "execution_count": null,
      "outputs": []
    },
    {
      "cell_type": "code",
      "source": [
        ""
      ],
      "metadata": {
        "id": "n1kb4Wbvc9X-"
      },
      "execution_count": null,
      "outputs": []
    }
  ]
}